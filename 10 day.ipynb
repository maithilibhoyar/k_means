{
 "cells": [
  {
   "cell_type": "code",
   "execution_count": 12,
   "id": "47129939",
   "metadata": {},
   "outputs": [
    {
     "name": "stdout",
     "output_type": "stream",
     "text": [
      "/n '201' is the list\n",
      "23201\n",
      "/n '201' is not the list\n",
      "23156\n",
      "/n '201' is the list\n",
      "54201\n",
      "/n '201' is the list\n",
      "63201\n",
      "/n '201' is not the list\n",
      "24358\n",
      "/n '201' is not the list\n",
      "45785\n"
     ]
    }
   ],
   "source": [
    "def mobile ():\n",
    "    model_list=[23201,23156,54201,63201,24358,45785]\n",
    "    for number in model_list:\n",
    "        if \"201\" in str(number):\n",
    "            print (\"/n '201' is the list\")\n",
    "            print(number)\n",
    "        else:\n",
    "            print(\"/n '201' is not the list\")\n",
    "            print(number)\n",
    "mobile()        "
   ]
  },
  {
   "cell_type": "code",
   "execution_count": 15,
   "id": "463c570c",
   "metadata": {},
   "outputs": [
    {
     "name": "stdout",
     "output_type": "stream",
     "text": [
      "'racecar' is a palindrome.\n",
      "'vedant' is not a palindrome.\n",
      "'Manvi' is not a palindrome.\n",
      "'Maithili' is not a palindrome.\n"
     ]
    }
   ],
   "source": [
    "def is_palindrome(input_str):\n",
    "    \n",
    "    input_str = input_str.replace(\" \", \"\").lower()\n",
    "    return input_str == input_str[::-1]\n",
    "\n",
    "word = \"racecar\"\n",
    "Word1 = \"vedant\"\n",
    "Word2 = \"Manvi\"\n",
    "Word3 = \"Maithili\"\n",
    "if is_palindrome(word):\n",
    "    print(f\"'{word}' is a palindrome.\")\n",
    "else:\n",
    "    print(f\"'{word}' is not a palindrome.\")\n",
    "if is_palindrome(Word1):\n",
    "    print(f\"'{Word1}' is a palindrome.\")\n",
    "else:\n",
    "    print(f\"'{Word1}' is not a palindrome.\")\n",
    "if is_palindrome(Word2):\n",
    "    print(f\"'{Word2}' is a palindrome.\")\n",
    "else:\n",
    "    print(f\"'{Word2}' is not a palindrome.\")\n",
    "if is_palindrome(Word3):\n",
    "    print(f\"'{Word3}' is a palindrome.\")\n",
    "else:\n",
    "    print(f\"'{Word3}' is not a palindrome.\")"
   ]
  },
  {
   "cell_type": "code",
   "execution_count": null,
   "id": "f9854178",
   "metadata": {},
   "outputs": [],
   "source": []
  }
 ],
 "metadata": {
  "kernelspec": {
   "display_name": "Python 3 (ipykernel)",
   "language": "python",
   "name": "python3"
  },
  "language_info": {
   "codemirror_mode": {
    "name": "ipython",
    "version": 3
   },
   "file_extension": ".py",
   "mimetype": "text/x-python",
   "name": "python",
   "nbconvert_exporter": "python",
   "pygments_lexer": "ipython3",
   "version": "3.11.4"
  }
 },
 "nbformat": 4,
 "nbformat_minor": 5
}
