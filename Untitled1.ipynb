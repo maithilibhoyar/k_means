{
 "cells": [
  {
   "cell_type": "code",
   "execution_count": 6,
   "id": "4ff7e42f",
   "metadata": {},
   "outputs": [],
   "source": [
    "def family():\n",
    "    number = int (input(\"enter the no. of  age family member1:\"))\n",
    "    number1 = int (input(\"enter the no. of  age family member2:\"))\n",
    "    number2 = int (input(\"enter the no. of  age family member3:\"))\n",
    "    \n",
    "def family(number):\n",
    "    \n",
    "    for i in number:\n",
    "        if i%2==0:\n",
    "            print(\"the member's age is prime\")\n",
    "        else :\n",
    "            print(\"the member's age is not prime \")\n",
    "  \n",
    "   \n",
    "\n",
    "\n",
    "\n",
    "                "
   ]
  },
  {
   "cell_type": "code",
   "execution_count": null,
   "id": "8b68b1fd",
   "metadata": {},
   "outputs": [],
   "source": []
  }
 ],
 "metadata": {
  "kernelspec": {
   "display_name": "Python 3 (ipykernel)",
   "language": "python",
   "name": "python3"
  },
  "language_info": {
   "codemirror_mode": {
    "name": "ipython",
    "version": 3
   },
   "file_extension": ".py",
   "mimetype": "text/x-python",
   "name": "python",
   "nbconvert_exporter": "python",
   "pygments_lexer": "ipython3",
   "version": "3.11.4"
  }
 },
 "nbformat": 4,
 "nbformat_minor": 5
}
