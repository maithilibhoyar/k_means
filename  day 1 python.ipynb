{
 "cells": [
  {
   "cell_type": "code",
   "execution_count": 1,
   "id": "af7a4909",
   "metadata": {},
   "outputs": [
    {
     "name": "stdout",
     "output_type": "stream",
     "text": [
      "maithili\n"
     ]
    }
   ],
   "source": [
    "print(\"maithili\")"
   ]
  },
  {
   "cell_type": "code",
   "execution_count": null,
   "id": "62c64a97",
   "metadata": {},
   "outputs": [],
   "source": [
    "#computer science"
   ]
  },
  {
   "cell_type": "code",
   "execution_count": 3,
   "id": "3fba9abd",
   "metadata": {},
   "outputs": [],
   "source": [
    "num_1=30"
   ]
  },
  {
   "cell_type": "markdown",
   "id": "864cbf39",
   "metadata": {},
   "source": [
    "num =25"
   ]
  },
  {
   "cell_type": "code",
   "execution_count": 2,
   "id": "bd5974c2",
   "metadata": {},
   "outputs": [
    {
     "ename": "SyntaxError",
     "evalue": "invalid syntax (2294491017.py, line 1)",
     "output_type": "error",
     "traceback": [
      "\u001b[1;36m  Cell \u001b[1;32mIn[2], line 1\u001b[1;36m\u001b[0m\n\u001b[1;33m    num 1=10\u001b[0m\n\u001b[1;37m        ^\u001b[0m\n\u001b[1;31mSyntaxError\u001b[0m\u001b[1;31m:\u001b[0m invalid syntax\n"
     ]
    }
   ],
   "source": [
    "num 1=10\n"
   ]
  },
  {
   "cell_type": "code",
   "execution_count": 5,
   "id": "4b7c0e7b",
   "metadata": {},
   "outputs": [
    {
     "ename": "SyntaxError",
     "evalue": "incomplete input (2564276773.py, line 1)",
     "output_type": "error",
     "traceback": [
      "\u001b[1;36m  Cell \u001b[1;32mIn[5], line 1\u001b[1;36m\u001b[0m\n\u001b[1;33m    def new_function():\u001b[0m\n\u001b[1;37m                       ^\u001b[0m\n\u001b[1;31mSyntaxError\u001b[0m\u001b[1;31m:\u001b[0m incomplete input\n"
     ]
    }
   ],
   "source": [
    "def new_function():"
   ]
  },
  {
   "cell_type": "code",
   "execution_count": 6,
   "id": "57330e0a",
   "metadata": {},
   "outputs": [
    {
     "ename": "SyntaxError",
     "evalue": "incomplete input (537728598.py, line 1)",
     "output_type": "error",
     "traceback": [
      "\u001b[1;36m  Cell \u001b[1;32mIn[6], line 1\u001b[1;36m\u001b[0m\n\u001b[1;33m    def new_funtion():\u001b[0m\n\u001b[1;37m                      ^\u001b[0m\n\u001b[1;31mSyntaxError\u001b[0m\u001b[1;31m:\u001b[0m incomplete input\n"
     ]
    }
   ],
   "source": [
    "def new_funtion():"
   ]
  },
  {
   "cell_type": "code",
   "execution_count": 7,
   "id": "fc89375a",
   "metadata": {},
   "outputs": [
    {
     "name": "stdout",
     "output_type": "stream",
     "text": [
      "25\n"
     ]
    }
   ],
   "source": [
    "def new():\n",
    "    x=25\n",
    "    print(x)\n",
    "new()   "
   ]
  },
  {
   "cell_type": "code",
   "execution_count": 8,
   "id": "2ff73e53",
   "metadata": {},
   "outputs": [
    {
     "ename": "NameError",
     "evalue": "name 'x' is not defined",
     "output_type": "error",
     "traceback": [
      "\u001b[1;31m---------------------------------------------------------------------------\u001b[0m",
      "\u001b[1;31mNameError\u001b[0m                                 Traceback (most recent call last)",
      "Cell \u001b[1;32mIn[8], line 5\u001b[0m\n\u001b[0;32m      3\u001b[0m     \u001b[38;5;28mprint\u001b[39m(x)\n\u001b[0;32m      4\u001b[0m     \u001b[38;5;28;01mreturn\u001b[39;00m\n\u001b[1;32m----> 5\u001b[0m \u001b[38;5;28mprint\u001b[39m(x)\n",
      "\u001b[1;31mNameError\u001b[0m: name 'x' is not defined"
     ]
    }
   ],
   "source": [
    "def new():\n",
    "    x=25\n",
    "    print(x)\n",
    "    return\n",
    "print(x)\n"
   ]
  },
  {
   "cell_type": "code",
   "execution_count": 9,
   "id": "c769d78d",
   "metadata": {},
   "outputs": [
    {
     "name": "stdout",
     "output_type": "stream",
     "text": [
      "welcome to the seminar\n"
     ]
    }
   ],
   "source": [
    "a=\"welcome to the seminar\" #global declaration\n",
    "def fun():\n",
    "    a=25\n",
    "    print(a) # ais a local variable\n",
    "    return\n",
    "print(a)"
   ]
  },
  {
   "cell_type": "code",
   "execution_count": 10,
   "id": "bffb8a97",
   "metadata": {},
   "outputs": [
    {
     "name": "stdout",
     "output_type": "stream",
     "text": [
      "29\n"
     ]
    }
   ],
   "source": [
    "a=25\n",
    "b=4\n",
    "print(a+b)"
   ]
  },
  {
   "cell_type": "code",
   "execution_count": 11,
   "id": "3a596369",
   "metadata": {},
   "outputs": [
    {
     "name": "stdout",
     "output_type": "stream",
     "text": [
      "24\n"
     ]
    }
   ],
   "source": [
    "print(20+4)"
   ]
  },
  {
   "cell_type": "code",
   "execution_count": 12,
   "id": "5dc71fd0",
   "metadata": {},
   "outputs": [
    {
     "name": "stdout",
     "output_type": "stream",
     "text": [
      "enter the value of x=35\n",
      "enter thr valur of y=4\n",
      "multplication  140\n",
      "division 8.75\n"
     ]
    }
   ],
   "source": [
    "x=int(input(\"enter the value of x=\"))\n",
    "y=int(input(\"enter thr valur of y=\"))\n",
    "z=x*y\n",
    "a=x/y\n",
    "print(\"multplication \",z)\n",
    "print(\"division\", a)"
   ]
  },
  {
   "cell_type": "code",
   "execution_count": null,
   "id": "3398658c",
   "metadata": {},
   "outputs": [],
   "source": []
  }
 ],
 "metadata": {
  "kernelspec": {
   "display_name": "Python 3 (ipykernel)",
   "language": "python",
   "name": "python3"
  },
  "language_info": {
   "codemirror_mode": {
    "name": "ipython",
    "version": 3
   },
   "file_extension": ".py",
   "mimetype": "text/x-python",
   "name": "python",
   "nbconvert_exporter": "python",
   "pygments_lexer": "ipython3",
   "version": "3.11.4"
  }
 },
 "nbformat": 4,
 "nbformat_minor": 5
}
